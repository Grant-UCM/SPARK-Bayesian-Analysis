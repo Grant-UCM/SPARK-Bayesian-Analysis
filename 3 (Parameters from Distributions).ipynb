{
 "cells": [
  {
   "cell_type": "code",
   "execution_count": null,
   "id": "872e8feb-2fb9-4e06-a4ac-00dd8b1919cd",
   "metadata": {},
   "outputs": [],
   "source": [
    "# some basic functions to operate on distributions\n",
    "# distributions do NOT have to be normalized first\n",
    "# copy this cell into the start of any notebook where you want to use these functions\n",
    "# and then run this cell (nothing will appear but the functions will be loaded)\n",
    "\n",
    "dist_norm <- \\(d) d/sum(d)  # dist_norm(d): returns normalized version of probability distribution d \n",
    "\n",
    "dist_mean <- \\(x,d) sum(x*d)/sum(d)  # dist_mean(x,d): returns mean x value with the probability distribution d\n",
    "\n",
    "dist_var <- \\(x,d) sum(x*x*d)/sum(d) - dist_mean(x,d)^2  # dist_var(x,d): returns variance of x with probability distribution d\n",
    "\n",
    "dist_sd <- \\(x,d) sqrt(dist_var(x,d))  # dist_sd(x,d): returns standard deviation of x with probability distribution d\n",
    "                                       # square root of variance\n",
    "\n",
    "dist_frac <- \\(x,d,p) cumsum(d)[round(length(x)*(p - x[1])/(x[length(x)] - x[1]))]/sum(d) \n",
    "# dist_frac(x,d,p): returns fraction of x with probability distribution d that is below p\n",
    "\n",
    "dist_q <- function(x,d,q) for(i in 1:length(d))   \n",
    "                            if(cumsum(d)[i]/sum(d) >= q) {\n",
    "                              print(x[i]) \n",
    "                              break}\n",
    "    \n",
    "# dist_q(x,d,q): returns x value for quantile q of x with probability distribution d \n",
    "# inverse of dist_frac"
   ]
  },
  {
   "cell_type": "code",
   "execution_count": null,
   "id": "90dda1fc-3071-42a0-b914-513e430c8614",
   "metadata": {},
   "outputs": [],
   "source": [
    "# enter values here for your first distribution.  Don't go overboard with decimal places; \n",
    "# three significant figures are enough\n",
    "\n",
    "# mean:      median:\n",
    "# standard deviation: \n",
    "# first quartile:         third quartile:  \n",
    "# 95th percentile:\n",
    "# fraction below one inch: \n",
    "\n",
    "# skew:     coefficent of variation:\n",
    "# interquartile range:   "
   ]
  },
  {
   "cell_type": "code",
   "execution_count": null,
   "id": "b458ed82-e597-4540-9ddf-d518db6800da",
   "metadata": {
    "tags": []
   },
   "outputs": [],
   "source": [
    "# here's a little distribution I've cooked up for you\n",
    "x <- seq(35,95,\n",
    "        length.out = 500\n",
    "         )\n",
    "\n",
    "prob <- (dnorm(x,          # combination of two normal distributions\n",
    "              mean = 53,  # first peak\n",
    "              sd = 5)     # wider\n",
    "         +\n",
    "        1.5*dnorm(x,     # a little higher \n",
    "              mean = 78, # second peak\n",
    "              sd = 4     # narrower \n",
    "              ))\n",
    "\n",
    "# have a look at it\n",
    "plot(x,prob,  # x and y coordinates\n",
    "                 \n",
    "     type = \"l\",  # draw as lines\n",
    "     bty = \"n\",   # no box\n",
    "     yaxt = \"n\",  # no y-axis\n",
    "     ylab = \"\",   # no label\n",
    "     main = \"Custom distribution\",   \n",
    "     xlab = \"Minutes\"    # units are minutes, I'll explain later\n",
    "     )\n",
    "\n",
    "\n",
    "             "
   ]
  },
  {
   "cell_type": "code",
   "execution_count": null,
   "id": "05a11610-052f-4fde-8d03-a1c436907960",
   "metadata": {},
   "outputs": [],
   "source": [
    "# enter values here for the custom distribution.  Don't go overboard with decimal places; \n",
    "# three significant figures are enough\n",
    "\n",
    "# mean:      median:\n",
    "# standard deviation: \n",
    "# first quartile:         third quartile:  \n",
    "# 95th percentile:\n",
    "# fraction below 50 minutes: \n",
    "\n",
    "# skew:     coefficent of variation:\n",
    "# interquartile range:  "
   ]
  }
 ],
 "metadata": {
  "kernelspec": {
   "display_name": "R",
   "language": "R",
   "name": "ir"
  },
  "language_info": {
   "codemirror_mode": "r",
   "file_extension": ".r",
   "mimetype": "text/x-r-source",
   "name": "R",
   "pygments_lexer": "r",
   "version": "4.3.1"
  }
 },
 "nbformat": 4,
 "nbformat_minor": 5
}
