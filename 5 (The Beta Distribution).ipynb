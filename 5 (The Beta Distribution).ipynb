{
 "cells": [
  {
   "cell_type": "code",
   "execution_count": null,
   "id": "2f1028f9-91e3-4923-8212-7fdef24fbbf0",
   "metadata": {
    "tags": []
   },
   "outputs": [],
   "source": [
    "# the beta distribution gives the probability distribution of an overall rate/fraction/probability\n",
    "# yes, you can call it the probability of a probability\n",
    "# when there are a positive and b negative results\n",
    "# always code as dbeta(x,a + 1, b + 1)\n",
    "\n",
    "# p is the probability of getting heads on a coin toss\n",
    "# a fair coin will have p = 0.5; a coin that always landed on heads would be p = 1\n",
    "# guess what p = 0 means\n",
    "\n",
    "p <- seq(0,1,    # probability of heads goes from 0 to 1 \n",
    "        length.out = 500  # 500 points\n",
    "        )\n",
    "\n",
    "evidence <- dbeta(p,15 + 1, 5 + 1) # 15 heads and 5 tails in the test\n",
    "\n",
    "plot(p,evidence,\n",
    "     lwd = 2,\n",
    "     col = \"darkcyan\", # unless you want a different color\n",
    "     type = \"l\",\n",
    "     xlab = \"Probability of heads\",\n",
    "     ylab = \"\",\n",
    "     yaxt = \"n\",  # remember to take this out while adding text \n",
    "                  # so you know where to place things\n",
    "                  # then put it back for the final graph\n",
    "     bty = \"n\",\n",
    "     xaxt = \"n\", # the next command makes a custom x axis\n",
    "     main = \"MAKE THE TITLES DIFFERENT FOR YOUR THREE GRAPHS\"\n",
    "     )\n",
    "\n",
    "axis(1, # this means draw an axis at the bottom\n",
    "     at = c(0,0.25,0.5,0.75,1)  # c() means make a vector of the following\n",
    "                                # \"at =\" means draw tick marks at these points\n",
    "     \n",
    "     # , labels = c(\"Tails only\",\"Tails often\",\"Fair\",\"Heads often\",\"Heads only\") \n",
    "     # \"labels =\" means put these labels at the tick marks\n",
    "     # if it's not there, the \"at =\": vector gives the labels\n",
    "    )"
   ]
  }
 ],
 "metadata": {
  "kernelspec": {
   "display_name": "R",
   "language": "R",
   "name": "ir"
  },
  "language_info": {
   "codemirror_mode": "r",
   "file_extension": ".r",
   "mimetype": "text/x-r-source",
   "name": "R",
   "pygments_lexer": "r",
   "version": "4.3.1"
  }
 },
 "nbformat": 4,
 "nbformat_minor": 5
}
