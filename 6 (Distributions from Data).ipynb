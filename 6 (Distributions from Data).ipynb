{
 "cells": [
  {
   "cell_type": "code",
   "execution_count": null,
   "id": "e6321c74-daa1-4b29-b99e-0d82150e3013",
   "metadata": {
    "tags": []
   },
   "outputs": [],
   "source": [
    "# generate five random numbers from a normal distribution\n",
    "# mean = 82, standard deviation = 6\n",
    "\n",
    "rnorm(5\n",
    "      , mean = 82\n",
    "      , sd = 6\n",
    "      )"
   ]
  },
  {
   "cell_type": "code",
   "execution_count": null,
   "id": "8d7ef9a5-390a-4892-a10d-22b840e41825",
   "metadata": {
    "tags": []
   },
   "outputs": [],
   "source": [
    "# use the four random numbers to create a t distribution\n",
    "\n",
    "# first, create a vector from the four numbers\n",
    "\n",
    "v <- c( , , , , )\n",
    "\n",
    "# next, use summary() and sd() to get the mean and s.d. of your vector\n",
    "\n",
    "summary(v)\n",
    "sd(v)\n",
    "\n",
    "mean_v <- # assign the mean to this\n",
    "sd_v <- # assign the standard deviation to this\n",
    "\n",
    "# next, use that to determine a t distribution \n",
    "# with the CORRECT degrees of freedom!\n",
    "\n",
    "x <- seq(82 - 3*6    # go from three standard deviations of the normal distribution below the mean\n",
    "         , 82 + 3*6  # to three standard deviations above\n",
    "         , length.out = 500\n",
    "         )\n",
    "\n",
    "prob_t <- dt( (x - mean_v)/sd_v   # this scales your vector to the t distribution\n",
    "               , df = # WHAT IS IT?\n",
    "             )\n",
    "# code a normal distribution as well; this is the distribution of ALL the random numbers\n",
    "prob_n <- dnorm(x\n",
    "                , mean = 82\n",
    "                , sd = 6\n",
    "                )\n",
    "\n",
    "# plot them both, scale as necessary\n",
    "# the t distribution should be a little lower\n",
    "\n",
    "plot(x,prob_n\n",
    "     , main = \"GIVE IT A TITLE\"\n",
    "     , yaxt = \"n\"\n",
    "     , ylab = \"n\"\n",
    "     , type = \"l\"\n",
    "     , lwd = 2\n",
    "     )\n",
    "\n",
    "lines(x,1*prob_t\n",
    "      , type = \"l\"\n",
    "      , col = \"royalblue\"\n",
    "      , lwd = 2\n",
    "      )"
   ]
  },
  {
   "cell_type": "code",
   "execution_count": 9,
   "id": "f21bb614-3d6f-4fd6-9f38-34833abffa3e",
   "metadata": {
    "tags": []
   },
   "outputs": [
    {
     "data": {
      "image/png": "[encoded data removed]",
      "text/plain": [
       "Plot with title “Number of Passengers in Thousands”"
      ]
     },
     "metadata": {
      "image/png": {
       "height": 420,
       "width": 420
      }
     },
     "output_type": "display_data"
    }
   ],
   "source": [
    "# here, you will fit a gamma distribution to data\n",
    "# begin by making a histogram (empirical distribution)\n",
    "# of the rate of air passengers per month\n",
    "# this is obviously WAY before the unpleasantness of 2020\n",
    "\n",
    "hist(AirPassengers   # hist() makes a histogram of a vector\n",
    "     , breaks = 15   # breaks = gives the approximate number of bars--adjust as you will\n",
    "     , freq = FALSE  # makes this a \"relative frequency\" histogram\n",
    "     , xlab = \"Airline Passengers per Month\"  \n",
    "     , xlim = c(0,650) # VERY USEFUL--sets the bounds of the x-axis\n",
    "     , yaxt = \"n\"\n",
    "     , ylab = \"\"\n",
    "     , main = \"Number of Passengers in Thousands\"\n",
    "     )\n",
    "\n",
    "# next, fit a gamma distribution to the data\n",
    "\n",
    "x <- seq(0,650,1)  # here we'll go by 1 for 651 data points\n",
    "prob <- dgamma(x\n",
    "               , shape = 5    # shape determines the location of the peak (bigger number shifts the peak left)\n",
    "               , scale = 500   # scale determines the width of the distribution (bigger number broadens the distribution)\n",
    "               )\n",
    "\n",
    "# I suggest you use \"plot\" to get a general shape of the curve \n",
    "# before you use \"lines\" to more precisely fit it to the data\n",
    "\n",
    "lines(x,1*prob  # you will have to adjust the scaling factor \n",
    "      , type = \"l\"\n",
    "      , lwd = 3\n",
    "      , col = \"firebrick\"  # AND CHANGE THE COLOR\n",
    "      )"
   ]
  }
 ],
 "metadata": {
  "kernelspec": {
   "display_name": "R",
   "language": "R",
   "name": "ir"
  },
  "language_info": {
   "codemirror_mode": "r",
   "file_extension": ".r",
   "mimetype": "text/x-r-source",
   "name": "R",
   "pygments_lexer": "r",
   "version": "4.3.1"
  }
 },
 "nbformat": 4,
 "nbformat_minor": 5
}
