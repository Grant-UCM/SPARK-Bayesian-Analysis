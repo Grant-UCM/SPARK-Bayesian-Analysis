{
 "cells": [
  {
   "cell_type": "code",
   "execution_count": null,
   "id": "c3e358ab-aff3-4a28-bf97-c6f634e1d6fc",
   "metadata": {},
   "outputs": [],
   "source": [
    "# first, use the random function \"sample\" to create a random value for the single-failure probability\n",
    "p <- sample(seq(0.001,0.1,0.001),1)  # p will be a randomly chosen value between 0.001 and 0.1--between 0.1% and 10%\n",
    "\n",
    "# find out what p is \n",
    "p \n",
    "\n",
    "# use this for plotting in the next step"
   ]
  },
  {
   "cell_type": "code",
   "execution_count": null,
   "id": "f12179d9-7c6f-4563-98a2-2caf89d74028",
   "metadata": {},
   "outputs": [],
   "source": [
    "# plot the failure rate probabilities\n",
    "\n",
    "p <- # whatever p is from the first cell\n",
    "\n",
    "# creating a vector by using seq()\n",
    "x <- seq(1,100, # first number is \"from,\" then \"to\"\n",
    "               # CHANGE THE \"TO\" VALUE FOR YOUR BEST GRAPH\n",
    "         1     # this number is the step, so: a vector from 1 to 20 by steps of 1 \n",
    "         )\n",
    "           \n",
    "            \n",
    "# create the probability vector\n",
    "prob <- # the probability vector--you have to fill this in.  Hope you wrote it down!\n",
    "\n",
    "# plot x against the probability vector\n",
    "plot(x,prob,      # x, then y\n",
    "       main = \"Failure probability for YOU STATE THE FAILURE RATE\",\n",
    "       xlab = \"Attempts\",\n",
    "       ylab = \"Probability\"\n",
    "    )\n",
    "\n",
    "# annotate it with some clever text\n",
    "text(10,0.1,  # location of text\n",
    "     # adj = 0, # sets it left-justified.  OPTIONAL\n",
    "     col = \"firebrick\", # THIS IS MINE YOU CAN'T USE IT CHANGE THE COLOR\n",
    "     cex = 1, # Character EXpansion--sets the size of the characters.  Default is 1\n",
    "     labels = \"YOUR TEXT HERE\"\n",
    "     )\n",
    "\n",
    "     \n",
    "    "
   ]
  },
  {
   "cell_type": "code",
   "execution_count": null,
   "id": "5bc06190-cb95-46db-befd-d4e3216d60a1",
   "metadata": {
    "tags": []
   },
   "outputs": [],
   "source": [
    "# creating a vector by using seq()\n",
    "x <- seq(0.002,1, # first number is \"from,\" then \"to\"\n",
    "         length.out = 500  # this sets the number of points\n",
    "         )\n",
    "\n",
    "y <- # make y some cool function of x.  Explore the possibilities!\n",
    "\n",
    "plot(x,y,      # x, then y\n",
    "       type = \"l\", # this sets lines rather than points\n",
    "       main = \"YOUR TITLE\",  # MAKE YOUR OWN\n",
    "       xlab = \"YOUR LABEL\",  # MAKE YOUR OWN\n",
    "       bty = \"n\", # this sets no box around the plot\n",
    "       yaxt = \"n\", # this sets no y-axis\n",
    "       ylab = \"\"   # this sets no label on y-axis\n",
    "    )\n"
   ]
  }
 ],
 "metadata": {
  "kernelspec": {
   "display_name": "R",
   "language": "R",
   "name": "ir"
  },
  "language_info": {
   "codemirror_mode": "r",
   "file_extension": ".r",
   "mimetype": "text/x-r-source",
   "name": "R",
   "pygments_lexer": "r",
   "version": "4.3.1"
  }
 },
 "nbformat": 4,
 "nbformat_minor": 5
}
